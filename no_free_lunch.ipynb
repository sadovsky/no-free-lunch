{
 "cells": [
  {
   "cell_type": "markdown",
   "metadata": {},
   "source": [
    "### Setup pandas"
   ]
  },
  {
   "cell_type": "code",
   "execution_count": 32,
   "metadata": {
    "collapsed": false
   },
   "outputs": [],
   "source": [
    "import pandas as pd"
   ]
  },
  {
   "cell_type": "markdown",
   "metadata": {},
   "source": [
    "### Make a function to read data"
   ]
  },
  {
   "cell_type": "code",
   "execution_count": 33,
   "metadata": {
    "collapsed": false
   },
   "outputs": [],
   "source": [
    "def read_and_split(file_name):\n",
    "    \"\"\"\n",
    "    Input:  Filename containing csv data\n",
    "    Output: vector y of binary classes, matrix X of independent variables\n",
    "    \"\"\"\n",
    "    data = pd.read_csv(file_name)\n",
    "    y = data['response']\n",
    "    X = data.iloc[:,0:10]\n",
    "    return y, X"
   ]
  },
  {
   "cell_type": "markdown",
   "metadata": {},
   "source": [
    "### Read in training/test data"
   ]
  },
  {
   "cell_type": "code",
   "execution_count": 34,
   "metadata": {
    "collapsed": false
   },
   "outputs": [],
   "source": [
    "y_train, X_train = read_and_split('train.csv')\n",
    "y_test, X_test = read_and_split('test.csv')"
   ]
  },
  {
   "cell_type": "markdown",
   "metadata": {},
   "source": [
    "### Make a benchmark function"
   ]
  },
  {
   "cell_type": "code",
   "execution_count": 35,
   "metadata": {
    "collapsed": false
   },
   "outputs": [],
   "source": [
    "# X_train,y_train,X_test,y_test are all global variables\n",
    "# We're going to make another called result that will store our modeling results\n",
    "\n",
    "from collections import defaultdict\n",
    "result = defaultdict(dict)"
   ]
  },
  {
   "cell_type": "code",
   "execution_count": 36,
   "metadata": {
    "collapsed": false
   },
   "outputs": [],
   "source": [
    "def benchmark(estimator,name):\n",
    "    import time\n",
    "    from sklearn.metrics import roc_auc_score\n",
    "        \n",
    "    current_time = time.clock()\n",
    "    estimator.fit(X_train, y_train)\n",
    "    result[name]['train_time'] = time.clock() - current_time\n",
    "    \n",
    "    current_time = time.clock()\n",
    "    prob = estimator.predict_proba(X_test)\n",
    "    result[name]['test_time'] = time.clock() - current_time\n",
    "        \n",
    "    result[name]['AUC'] = roc_auc_score(y_test, prob[:,1])"
   ]
  },
  {
   "cell_type": "markdown",
   "metadata": {},
   "source": [
    "### Test models"
   ]
  },
  {
   "cell_type": "code",
   "execution_count": 37,
   "metadata": {
    "collapsed": false
   },
   "outputs": [],
   "source": [
    "from sklearn.dummy import DummyClassifier\n",
    "\n",
    "from sklearn.linear_model import LogisticRegression\n",
    "\n",
    "from sklearn.ensemble import RandomForestClassifier\n",
    "from sklearn.ensemble import GradientBoostingClassifier\n",
    "from sklearn.ensemble import ExtraTreesClassifier\n",
    "from sklearn.ensemble import AdaBoostClassifier\n",
    "\n",
    "##### baseline\n",
    "# predict according to training distribution\n",
    "# uniform random\n",
    "benchmark(DummyClassifier(strategy='uniform'),name='DummyUniform')      \n",
    "\n",
    "##### linear model\n",
    "benchmark(LogisticRegression(), 'Logisitic Regression')\n",
    "\n",
    "##### ensemble methods\n",
    "benchmark(ExtraTreesClassifier(), 'Extra Trees')\n",
    "benchmark(AdaBoostClassifier(), 'AdaBoost')\n",
    "benchmark(RandomForestClassifier(), 'RandomForest')\n",
    "benchmark(GradientBoostingClassifier(), 'GradientBoosting')"
   ]
  },
  {
   "cell_type": "markdown",
   "metadata": {},
   "source": [
    "### Collate results"
   ]
  },
  {
   "cell_type": "code",
   "execution_count": 38,
   "metadata": {
    "collapsed": false
   },
   "outputs": [
    {
     "data": {
      "text/html": [
       "<div>\n",
       "<table border=\"1\" class=\"dataframe\">\n",
       "  <thead>\n",
       "    <tr style=\"text-align: right;\">\n",
       "      <th></th>\n",
       "      <th>train_time</th>\n",
       "      <th>test_time</th>\n",
       "      <th>AUC</th>\n",
       "    </tr>\n",
       "  </thead>\n",
       "  <tbody>\n",
       "    <tr>\n",
       "      <th>GradientBoosting</th>\n",
       "      <td>1.58</td>\n",
       "      <td>0.01</td>\n",
       "      <td>0.951147</td>\n",
       "    </tr>\n",
       "    <tr>\n",
       "      <th>AdaBoost</th>\n",
       "      <td>0.82</td>\n",
       "      <td>0.01</td>\n",
       "      <td>0.939967</td>\n",
       "    </tr>\n",
       "    <tr>\n",
       "      <th>RandomForest</th>\n",
       "      <td>0.43</td>\n",
       "      <td>0.00</td>\n",
       "      <td>0.908641</td>\n",
       "    </tr>\n",
       "    <tr>\n",
       "      <th>Extra Trees</th>\n",
       "      <td>2.75</td>\n",
       "      <td>0.00</td>\n",
       "      <td>0.898670</td>\n",
       "    </tr>\n",
       "    <tr>\n",
       "      <th>DummyUniform</th>\n",
       "      <td>0.00</td>\n",
       "      <td>0.00</td>\n",
       "      <td>0.500000</td>\n",
       "    </tr>\n",
       "    <tr>\n",
       "      <th>Logisitic Regression</th>\n",
       "      <td>0.02</td>\n",
       "      <td>0.33</td>\n",
       "      <td>0.462054</td>\n",
       "    </tr>\n",
       "  </tbody>\n",
       "</table>\n",
       "</div>"
      ],
      "text/plain": [
       "                      train_time  test_time       AUC\n",
       "GradientBoosting            1.58       0.01  0.951147\n",
       "AdaBoost                    0.82       0.01  0.939967\n",
       "RandomForest                0.43       0.00  0.908641\n",
       "Extra Trees                 2.75       0.00  0.898670\n",
       "DummyUniform                0.00       0.00  0.500000\n",
       "Logisitic Regression        0.02       0.33  0.462054"
      ]
     },
     "execution_count": 38,
     "metadata": {},
     "output_type": "execute_result"
    }
   ],
   "source": [
    "result_df = pd.DataFrame(data=result).T\n",
    "result_df[['train_time', 'test_time', 'AUC']].sort_values('AUC', ascending=False)"
   ]
  }
 ],
 "metadata": {
  "kernelspec": {
   "display_name": "Python 2",
   "language": "python",
   "name": "python2"
  },
  "language_info": {
   "codemirror_mode": {
    "name": "ipython",
    "version": 2
   },
   "file_extension": ".py",
   "mimetype": "text/x-python",
   "name": "python",
   "nbconvert_exporter": "python",
   "pygments_lexer": "ipython2",
   "version": "2.7.10"
  }
 },
 "nbformat": 4,
 "nbformat_minor": 0
}
